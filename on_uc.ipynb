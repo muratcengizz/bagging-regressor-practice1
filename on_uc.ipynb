{
 "cells": [
  {
   "cell_type": "markdown",
   "id": "85439fee-cffb-4a8b-ace6-fdc4320ef28a",
   "metadata": {},
   "source": [
    "# Bagged Trees Algoritması İle Regresyon Modeli Kuralım. \n",
    "## Bir otomobilin yakıt tüketimini tahmin etmek için kullanılan bir veri seti oluşturacağız."
   ]
  },
  {
   "cell_type": "code",
   "execution_count": 1,
   "id": "868bdd49-3dbc-448c-b0fe-2e3d8c5f0e4f",
   "metadata": {},
   "outputs": [],
   "source": [
    "import numpy as np\n",
    "import pandas as pd\n",
    "import seaborn as sns\n",
    "import matplotlib.pyplot as plt\n",
    "from sklearn.ensemble import BaggingRegressor\n",
    "from sklearn.model_selection import train_test_split, GridSearchCV\n",
    "from sklearn.metrics import mean_squared_error, r2_score"
   ]
  },
  {
   "cell_type": "code",
   "execution_count": 2,
   "id": "90ee96e2-831c-43ab-af1f-d9ed1208cfbf",
   "metadata": {},
   "outputs": [
    {
     "data": {
      "text/html": [
       "<div>\n",
       "<style scoped>\n",
       "    .dataframe tbody tr th:only-of-type {\n",
       "        vertical-align: middle;\n",
       "    }\n",
       "\n",
       "    .dataframe tbody tr th {\n",
       "        vertical-align: top;\n",
       "    }\n",
       "\n",
       "    .dataframe thead th {\n",
       "        text-align: right;\n",
       "    }\n",
       "</style>\n",
       "<table border=\"1\" class=\"dataframe\">\n",
       "  <thead>\n",
       "    <tr style=\"text-align: right;\">\n",
       "      <th></th>\n",
       "      <th>Speed</th>\n",
       "      <th>Engine Size</th>\n",
       "      <th>Fuel Consumption</th>\n",
       "    </tr>\n",
       "  </thead>\n",
       "  <tbody>\n",
       "    <tr>\n",
       "      <th>0</th>\n",
       "      <td>107</td>\n",
       "      <td>3826</td>\n",
       "      <td>401.319966</td>\n",
       "    </tr>\n",
       "    <tr>\n",
       "      <th>1</th>\n",
       "      <td>177</td>\n",
       "      <td>1086</td>\n",
       "      <td>152.024564</td>\n",
       "    </tr>\n",
       "    <tr>\n",
       "      <th>2</th>\n",
       "      <td>127</td>\n",
       "      <td>4115</td>\n",
       "      <td>446.372520</td>\n",
       "    </tr>\n",
       "    <tr>\n",
       "      <th>3</th>\n",
       "      <td>163</td>\n",
       "      <td>1872</td>\n",
       "      <td>218.249899</td>\n",
       "    </tr>\n",
       "    <tr>\n",
       "      <th>4</th>\n",
       "      <td>69</td>\n",
       "      <td>3059</td>\n",
       "      <td>325.840794</td>\n",
       "    </tr>\n",
       "  </tbody>\n",
       "</table>\n",
       "</div>"
      ],
      "text/plain": [
       "   Speed  Engine Size  Fuel Consumption\n",
       "0    107         3826        401.319966\n",
       "1    177         1086        152.024564\n",
       "2    127         4115        446.372520\n",
       "3    163         1872        218.249899\n",
       "4     69         3059        325.840794"
      ]
     },
     "execution_count": 2,
     "metadata": {},
     "output_type": "execute_result"
    }
   ],
   "source": [
    "# Veri seti oluşturalım.\n",
    "np.random.seed(0)\n",
    "\n",
    "speed = np.random.randint(60, 200, 100)\n",
    "engine_size = np.random.randint(1000, 5000, 100)\n",
    "fuel_consumption = 0.1 * engine_size + 0.2 * speed + np.random.normal(0, 10, 100)\n",
    "\n",
    "data = pd.DataFrame({\n",
    "    'Speed': speed,\n",
    "    'Engine Size': engine_size,\n",
    "    'Fuel Consumption': fuel_consumption\n",
    "})\n",
    "data.head()"
   ]
  },
  {
   "cell_type": "markdown",
   "id": "c0c6b0d5-40ae-4f9f-a10b-efc2846cbb35",
   "metadata": {},
   "source": [
    "# Veri Analizi"
   ]
  },
  {
   "cell_type": "code",
   "execution_count": 3,
   "id": "e923970d-ae5b-46bd-a2c7-28e7fcfff489",
   "metadata": {},
   "outputs": [
    {
     "data": {
      "text/html": [
       "<div>\n",
       "<style scoped>\n",
       "    .dataframe tbody tr th:only-of-type {\n",
       "        vertical-align: middle;\n",
       "    }\n",
       "\n",
       "    .dataframe tbody tr th {\n",
       "        vertical-align: top;\n",
       "    }\n",
       "\n",
       "    .dataframe thead th {\n",
       "        text-align: right;\n",
       "    }\n",
       "</style>\n",
       "<table border=\"1\" class=\"dataframe\">\n",
       "  <thead>\n",
       "    <tr style=\"text-align: right;\">\n",
       "      <th></th>\n",
       "      <th>count</th>\n",
       "      <th>mean</th>\n",
       "      <th>std</th>\n",
       "      <th>min</th>\n",
       "      <th>25%</th>\n",
       "      <th>50%</th>\n",
       "      <th>75%</th>\n",
       "      <th>max</th>\n",
       "    </tr>\n",
       "  </thead>\n",
       "  <tbody>\n",
       "    <tr>\n",
       "      <th>Speed</th>\n",
       "      <td>100.0</td>\n",
       "      <td>132.430000</td>\n",
       "      <td>39.890824</td>\n",
       "      <td>60.000000</td>\n",
       "      <td>97.50000</td>\n",
       "      <td>137.500000</td>\n",
       "      <td>166.750000</td>\n",
       "      <td>198.000000</td>\n",
       "    </tr>\n",
       "    <tr>\n",
       "      <th>Engine Size</th>\n",
       "      <td>100.0</td>\n",
       "      <td>2912.090000</td>\n",
       "      <td>1107.486371</td>\n",
       "      <td>1024.000000</td>\n",
       "      <td>2126.50000</td>\n",
       "      <td>2901.500000</td>\n",
       "      <td>3826.250000</td>\n",
       "      <td>4936.000000</td>\n",
       "    </tr>\n",
       "    <tr>\n",
       "      <th>Fuel Consumption</th>\n",
       "      <td>100.0</td>\n",
       "      <td>317.921793</td>\n",
       "      <td>111.337674</td>\n",
       "      <td>109.189744</td>\n",
       "      <td>237.71761</td>\n",
       "      <td>320.842797</td>\n",
       "      <td>404.401293</td>\n",
       "      <td>523.632359</td>\n",
       "    </tr>\n",
       "  </tbody>\n",
       "</table>\n",
       "</div>"
      ],
      "text/plain": [
       "                  count         mean          std          min         25%  \\\n",
       "Speed             100.0   132.430000    39.890824    60.000000    97.50000   \n",
       "Engine Size       100.0  2912.090000  1107.486371  1024.000000  2126.50000   \n",
       "Fuel Consumption  100.0   317.921793   111.337674   109.189744   237.71761   \n",
       "\n",
       "                          50%          75%          max  \n",
       "Speed              137.500000   166.750000   198.000000  \n",
       "Engine Size       2901.500000  3826.250000  4936.000000  \n",
       "Fuel Consumption   320.842797   404.401293   523.632359  "
      ]
     },
     "execution_count": 3,
     "metadata": {},
     "output_type": "execute_result"
    }
   ],
   "source": [
    "data.describe().T"
   ]
  },
  {
   "cell_type": "code",
   "execution_count": 4,
   "id": "139d866d-416f-4811-b871-7b0d63d598f8",
   "metadata": {},
   "outputs": [
    {
     "name": "stdout",
     "output_type": "stream",
     "text": [
      "<class 'pandas.core.frame.DataFrame'>\n",
      "RangeIndex: 100 entries, 0 to 99\n",
      "Data columns (total 3 columns):\n",
      " #   Column            Non-Null Count  Dtype  \n",
      "---  ------            --------------  -----  \n",
      " 0   Speed             100 non-null    int32  \n",
      " 1   Engine Size       100 non-null    int32  \n",
      " 2   Fuel Consumption  100 non-null    float64\n",
      "dtypes: float64(1), int32(2)\n",
      "memory usage: 1.7 KB\n"
     ]
    }
   ],
   "source": [
    "data.info()"
   ]
  },
  {
   "cell_type": "code",
   "execution_count": 5,
   "id": "04d93cb3-16db-4a5b-80e1-91306b212543",
   "metadata": {},
   "outputs": [
    {
     "data": {
      "text/plain": [
       "Speed               False\n",
       "Engine Size         False\n",
       "Fuel Consumption    False\n",
       "dtype: bool"
      ]
     },
     "execution_count": 5,
     "metadata": {},
     "output_type": "execute_result"
    }
   ],
   "source": [
    "data.isnull().any()"
   ]
  },
  {
   "cell_type": "code",
   "execution_count": 6,
   "id": "3fbb27ec-a205-4cb6-b085-897ae070a43c",
   "metadata": {},
   "outputs": [
    {
     "data": {
      "image/png": "[encoded data removed]",
      "text/plain": [
       "<Figure size 432x288 with 1 Axes>"
      ]
     },
     "metadata": {
      "needs_background": "light"
     },
     "output_type": "display_data"
    }
   ],
   "source": [
    "sns.boxplot(data=data);"
   ]
  },
  {
   "cell_type": "markdown",
   "id": "d359a2ce-a61e-48d0-b891-407d814ffe4b",
   "metadata": {},
   "source": [
    "# Model İşlemleri"
   ]
  },
  {
   "cell_type": "code",
   "execution_count": 7,
   "id": "10f2a02b-337b-4cd0-bdeb-46ee9c3a7dd7",
   "metadata": {},
   "outputs": [],
   "source": [
    "# Bağımlı ve bağımsız değişkenleri oluşturalım.\n",
    "X = data[['Speed', 'Engine Size']]\n",
    "y = data['Fuel Consumption']"
   ]
  },
  {
   "cell_type": "code",
   "execution_count": 8,
   "id": "c5408e12-fbdc-4b01-9765-c5b7e9557a98",
   "metadata": {},
   "outputs": [],
   "source": [
    "# Eğitim ve test setlerini ayıralım.\n",
    "X_train, X_test, y_train, y_test = train_test_split(X, y, test_size=0.2, random_state=42)"
   ]
  },
  {
   "cell_type": "code",
   "execution_count": 9,
   "id": "4a308116-fae8-4ee1-8dd8-d4afc3a4ea1a",
   "metadata": {},
   "outputs": [
    {
     "data": {
      "text/plain": [
       "BaggingRegressor()"
      ]
     },
     "execution_count": 9,
     "metadata": {},
     "output_type": "execute_result"
    }
   ],
   "source": [
    "# Modeli oluşturalım ve eğitelim.\n",
    "model = BaggingRegressor()\n",
    "model.fit(X_train, y_train)"
   ]
  },
  {
   "cell_type": "code",
   "execution_count": 10,
   "id": "0f67af02-383d-412b-8772-0e6e84fe3408",
   "metadata": {},
   "outputs": [],
   "source": [
    "# Tahmin Yapalım.\n",
    "predict = model.predict(X_test)"
   ]
  },
  {
   "cell_type": "code",
   "execution_count": 11,
   "id": "5a11cecc-a953-40ee-bd2c-f3c4c7275ce4",
   "metadata": {},
   "outputs": [
    {
     "name": "stdout",
     "output_type": "stream",
     "text": [
      "R^2:  0.9834442466719883\n",
      "MSE:  153.79850689424208\n",
      "RMSE:  12.40155260014818\n"
     ]
    }
   ],
   "source": [
    "# Modelin başarısını inceleyelim.\n",
    "r2 = r2_score(y_test, predict)\n",
    "mse = mean_squared_error(y_test, predict)\n",
    "rmse = np.sqrt(mse)\n",
    "\n",
    "print('R^2: ', r2)\n",
    "print('MSE: ', mse)\n",
    "print('RMSE: ', rmse)"
   ]
  },
  {
   "cell_type": "markdown",
   "id": "acdbe81a-5d95-4d56-a8d6-1555648adad8",
   "metadata": {},
   "source": [
    "# Model Tuning "
   ]
  },
  {
   "cell_type": "code",
   "execution_count": 12,
   "id": "495721af-32fb-491e-a6f7-3108b28f38f8",
   "metadata": {},
   "outputs": [
    {
     "data": {
      "text/plain": [
       "{'base_estimator': None,\n",
       " 'bootstrap': True,\n",
       " 'bootstrap_features': False,\n",
       " 'max_features': 1.0,\n",
       " 'max_samples': 1.0,\n",
       " 'n_estimators': 10,\n",
       " 'n_jobs': None,\n",
       " 'oob_score': False,\n",
       " 'random_state': None,\n",
       " 'verbose': 0,\n",
       " 'warm_start': False}"
      ]
     },
     "execution_count": 12,
     "metadata": {},
     "output_type": "execute_result"
    }
   ],
   "source": [
    "model.get_params()"
   ]
  },
  {
   "cell_type": "code",
   "execution_count": 13,
   "id": "a9317591-a3db-4754-a904-a828a1beafe5",
   "metadata": {},
   "outputs": [
    {
     "name": "stdout",
     "output_type": "stream",
     "text": [
      "Best Parameters:  {'max_features': 1.0, 'max_samples': 0.5, 'n_estimators': 50}\n",
      "Best Score:  0.9858362501266799\n"
     ]
    }
   ],
   "source": [
    "params = {\n",
    "    'n_estimators': [50, 100, 200],\n",
    "    'max_samples': [0.5, 0.8, 1.0],\n",
    "    'max_features': [0.5, 0.8, 1.0]\n",
    "}\n",
    "\n",
    "grid = GridSearchCV(estimator=model, param_grid=params, cv=5)\n",
    "grid.fit(X_train, y_train)\n",
    "\n",
    "best_params = grid.best_params_\n",
    "\n",
    "print('Best Parameters: ', best_params)\n",
    "print('Best Score: ', grid.best_score_)"
   ]
  },
  {
   "cell_type": "markdown",
   "id": "942d2ce8-d6a7-41df-a874-d55292ce7f20",
   "metadata": {},
   "source": [
    "### En iyi hiperparametreler için modelimizi tekrar kuralım."
   ]
  },
  {
   "cell_type": "code",
   "execution_count": 15,
   "id": "ec8bd603-fc11-47e7-a9ea-f12e314f6bae",
   "metadata": {},
   "outputs": [
    {
     "name": "stdout",
     "output_type": "stream",
     "text": [
      "R^2:  0.9823202131056109\n",
      "MSE:  164.24047717386418\n",
      "RMSE:  12.815634091759337\n"
     ]
    }
   ],
   "source": [
    "best_model = BaggingRegressor(**best_params).fit(X_train, y_train)\n",
    "predict = best_model.predict(X_test)\n",
    "\n",
    "r2 = r2_score(y_test, predict)\n",
    "mse = mean_squared_error(y_test, predict)\n",
    "rmse = np.sqrt(mse)\n",
    "\n",
    "print('R^2: ', r2)\n",
    "print('MSE: ', mse)\n",
    "print('RMSE: ', rmse)"
   ]
  },
  {
   "cell_type": "markdown",
   "id": "bbfc67bb-72c8-4ef7-9858-a6e318cb87f2",
   "metadata": {},
   "source": [
    "# Tahmin"
   ]
  },
  {
   "cell_type": "code",
   "execution_count": 16,
   "id": "a1513b0a-b973-4cda-a0e5-35a79f50249d",
   "metadata": {},
   "outputs": [
    {
     "data": {
      "text/html": [
       "<div>\n",
       "<style scoped>\n",
       "    .dataframe tbody tr th:only-of-type {\n",
       "        vertical-align: middle;\n",
       "    }\n",
       "\n",
       "    .dataframe tbody tr th {\n",
       "        vertical-align: top;\n",
       "    }\n",
       "\n",
       "    .dataframe thead th {\n",
       "        text-align: right;\n",
       "    }\n",
       "</style>\n",
       "<table border=\"1\" class=\"dataframe\">\n",
       "  <thead>\n",
       "    <tr style=\"text-align: right;\">\n",
       "      <th></th>\n",
       "      <th>Speed</th>\n",
       "      <th>Engine Size</th>\n",
       "      <th>Fuel Consumption</th>\n",
       "    </tr>\n",
       "  </thead>\n",
       "  <tbody>\n",
       "    <tr>\n",
       "      <th>0</th>\n",
       "      <td>107</td>\n",
       "      <td>3826</td>\n",
       "      <td>401.319966</td>\n",
       "    </tr>\n",
       "    <tr>\n",
       "      <th>1</th>\n",
       "      <td>177</td>\n",
       "      <td>1086</td>\n",
       "      <td>152.024564</td>\n",
       "    </tr>\n",
       "    <tr>\n",
       "      <th>2</th>\n",
       "      <td>127</td>\n",
       "      <td>4115</td>\n",
       "      <td>446.372520</td>\n",
       "    </tr>\n",
       "    <tr>\n",
       "      <th>3</th>\n",
       "      <td>163</td>\n",
       "      <td>1872</td>\n",
       "      <td>218.249899</td>\n",
       "    </tr>\n",
       "    <tr>\n",
       "      <th>4</th>\n",
       "      <td>69</td>\n",
       "      <td>3059</td>\n",
       "      <td>325.840794</td>\n",
       "    </tr>\n",
       "  </tbody>\n",
       "</table>\n",
       "</div>"
      ],
      "text/plain": [
       "   Speed  Engine Size  Fuel Consumption\n",
       "0    107         3826        401.319966\n",
       "1    177         1086        152.024564\n",
       "2    127         4115        446.372520\n",
       "3    163         1872        218.249899\n",
       "4     69         3059        325.840794"
      ]
     },
     "execution_count": 16,
     "metadata": {},
     "output_type": "execute_result"
    }
   ],
   "source": [
    "data.head()"
   ]
  },
  {
   "cell_type": "code",
   "execution_count": 18,
   "id": "81712204-142c-48a3-8437-474a1a849b78",
   "metadata": {},
   "outputs": [
    {
     "name": "stdin",
     "output_type": "stream",
     "text": [
      "Aracın ortalama hızını giriniz:  160\n",
      "Aracın motor hacmini giriniz:  3000\n"
     ]
    },
    {
     "name": "stdout",
     "output_type": "stream",
     "text": [
      "Tahmini Yakıt Tüketimi Değeri:  332\n"
     ]
    },
    {
     "name": "stderr",
     "output_type": "stream",
     "text": [
      "C:\\Users\\murat\\anaconda3\\lib\\site-packages\\sklearn\\base.py:450: UserWarning: X does not have valid feature names, but BaggingRegressor was fitted with feature names\n",
      "  warnings.warn(\n"
     ]
    }
   ],
   "source": [
    "speed = int(input('Aracın ortalama hızını giriniz: '))\n",
    "engine_size = int(input('Aracın motor hacmini giriniz: '))\n",
    "\n",
    "predict = model.predict([[speed, engine_size]])\n",
    "\n",
    "print('Tahmini Yakıt Tüketimi Değeri: ', int(predict))"
   ]
  }
 ],
 "metadata": {
  "kernelspec": {
   "display_name": "Python 3 (ipykernel)",
   "language": "python",
   "name": "python3"
  },
  "language_info": {
   "codemirror_mode": {
    "name": "ipython",
    "version": 3
   },
   "file_extension": ".py",
   "mimetype": "text/x-python",
   "name": "python",
   "nbconvert_exporter": "python",
   "pygments_lexer": "ipython3",
   "version": "3.9.12"
  }
 },
 "nbformat": 4,
 "nbformat_minor": 5
}
